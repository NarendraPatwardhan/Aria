{
  "nbformat": 4,
  "nbformat_minor": 0,
  "metadata": {
    "colab": {
      "name": "ARiA.ipynb",
      "version": "0.3.2",
      "provenance": [],
      "collapsed_sections": [],
      "include_colab_link": true
    },
    "kernelspec": {
      "name": "python3",
      "display_name": "Python 3"
    }
  },
  "cells": [
    {
      "cell_type": "markdown",
      "metadata": {
        "id": "view-in-github",
        "colab_type": "text"
      },
      "source": [
        "<a href=\"https://colab.research.google.com/github/NarendraPatwardhan/Aria/blob/master/ARiA.ipynb\" target=\"_parent\"><img src=\"https://colab.research.google.com/assets/colab-badge.svg\" alt=\"Open In Colab\"/></a>"
      ]
    },
    {
      "metadata": {
        "id": "uAcaaqfBwDKz",
        "colab_type": "text"
      },
      "cell_type": "markdown",
      "source": [
        "# ARiA: Utilizing Richard's Curve for Controlling the Non-monotonicity of the Activation Function in Deep Neural Nets\n",
        "\n",
        "This notebook presents an example of how to implement the ARiA activation function as presented [here](https://arxiv.org/abs/1805.08878 \"Original Paper\"), across the 3 major frameworks in deep learning."
      ]
    },
    {
      "metadata": {
        "id": "UmhkG0BsxZSp",
        "colab_type": "text"
      },
      "cell_type": "markdown",
      "source": [
        "## 1. Tensorflow + Keras"
      ]
    },
    {
      "metadata": {
        "id": "f0at12yhxbhO",
        "colab_type": "code",
        "colab": {}
      },
      "cell_type": "code",
      "source": [
        "import tensorflow as tf\n",
        "from tensorflow import keras\n",
        "\n",
        "class ARiA(tf.keras.layers.Layer):\n",
        "    def __init__(self,A,K,B,v,Q,C):\n",
        "        super(ARiA, self).__init__()\n",
        "        self.A = A\n",
        "        self.K = K\n",
        "        self.B = B\n",
        "        self.v = v\n",
        "        self.Q = Q\n",
        "        self.C = C\n",
        "        \n",
        "    def call(self, x):\n",
        "        return x*(self.A + (self.K-self.A)/\n",
        "                  (self.C + self.Q*tf.exp(-self.B*x))**(1/self.v))"
      ],
      "execution_count": 0,
      "outputs": []
    },
    {
      "metadata": {
        "id": "GxG3LECXxds0",
        "colab_type": "text"
      },
      "cell_type": "markdown",
      "source": [
        "## 2. Pytorch"
      ]
    },
    {
      "metadata": {
        "id": "c-fBgIXPxfMJ",
        "colab_type": "code",
        "colab": {}
      },
      "cell_type": "code",
      "source": [
        "!pip install pytorch\n",
        "\n",
        "import torch\n",
        "\n",
        "class ARiA(torch.nn.Module):\n",
        "    def __init__(self,A,K,B,v,Q,C):\n",
        "        super(ARiA, self).__init__()\n",
        "        self.A = A\n",
        "        self.K = K\n",
        "        self.B = B\n",
        "        self.v = v\n",
        "        self.Q = Q\n",
        "        self.C = C\n",
        "\n",
        "    def forward(self, x):\n",
        "        return x*(self.A + (self.K-self.A)/\n",
        "                  (self.C + self.Q*torch.exp(-self.B*x))**(1/self.v))"
      ],
      "execution_count": 0,
      "outputs": []
    },
    {
      "metadata": {
        "id": "dYzlUBmbxf7s",
        "colab_type": "text"
      },
      "cell_type": "markdown",
      "source": [
        "## 3. MXNet"
      ]
    },
    {
      "metadata": {
        "id": "JMyA-tuUxiNn",
        "colab_type": "code",
        "colab": {}
      },
      "cell_type": "code",
      "source": [
        "!pip install mxnet\n",
        "\n",
        "import mxnet as mx\n",
        "\n",
        "class ARiA(mx.gluon.HybridBlock):\n",
        "    def __init__(self,A,K,B,v,Q,C):\n",
        "        super(ARiA, self).__init__()\n",
        "        self.A = A\n",
        "        self.K = K\n",
        "        self.B = B\n",
        "        self.v = v\n",
        "        self.Q = Q\n",
        "        self.C = C\n",
        "\n",
        "    def hybrid_forward(self,F, x):        \n",
        "        return x*(self.A + (self.K-self.A)/\n",
        "                  (self.C + self.Q*F.exp(-self.B*x))**(1/self.v))"
      ],
      "execution_count": 0,
      "outputs": []
    },
    {
      "metadata": {
        "id": "ViRmXlG82RP_",
        "colab_type": "text"
      },
      "cell_type": "markdown",
      "source": [
        "### Recommended Initialization"
      ]
    },
    {
      "metadata": {
        "id": "QhU0DoDI2WE4",
        "colab_type": "code",
        "colab": {}
      },
      "cell_type": "code",
      "source": [
        "aria = ARiA(0,1,1,(2/3),1,1)"
      ],
      "execution_count": 0,
      "outputs": []
    }
  ]
}