{
  "nbformat": 4,
  "nbformat_minor": 0,
  "metadata": {
    "colab": {
      "name": "tf2_aria.ipynb",
      "version": "0.3.2",
      "provenance": [],
      "include_colab_link": true
    },
    "kernelspec": {
      "display_name": "Python 3",
      "language": "python",
      "name": "python3"
    }
  },
  "cells": [
    {
      "cell_type": "markdown",
      "metadata": {
        "id": "view-in-github",
        "colab_type": "text"
      },
      "source": [
        "<a href=\"https://colab.research.google.com/github/NarendraPatwardhan/Aria/blob/master/tf2_aria.ipynb\" target=\"_parent\"><img src=\"https://colab.research.google.com/assets/colab-badge.svg\" alt=\"Open In Colab\"/></a>"
      ]
    },
    {
      "metadata": {
        "id": "tL6n3VVeMV0M",
        "colab_type": "code",
        "colab": {}
      },
      "cell_type": "code",
      "source": [
        "import tensorflow as tf\n",
        "from tensorflow import keras"
      ],
      "execution_count": 0,
      "outputs": []
    },
    {
      "metadata": {
        "id": "WMZF9-CLMV0O",
        "colab_type": "code",
        "colab": {}
      },
      "cell_type": "code",
      "source": [
        "class aria(tf.keras.layers.Layer):\n",
        "    def __init__(self,beta=1,alpha=1.5):\n",
        "        super(aria, self).__init__()\n",
        "        self.alpha = alpha\n",
        "        self.beta = beta\n",
        "        \n",
        "    def call(self, ix):\n",
        "        return ix*(tf.sigmoid(self.beta*ix)**self.alpha)"
      ],
      "execution_count": 0,
      "outputs": []
    },
    {
      "metadata": {
        "id": "p8vcjAmmMV0Q",
        "colab_type": "code",
        "colab": {}
      },
      "cell_type": "code",
      "source": [
        "model_relu = keras.Sequential([\n",
        "    keras.layers.Flatten(input_shape=(28, 28)),\n",
        "    keras.layers.Dense(128, activation='relu'),\n",
        "    keras.layers.Dense(128, activation='relu'),\n",
        "    keras.layers.Dense(128, activation='relu'),\n",
        "    keras.layers.Dense(10, activation='softmax')\n",
        "])\n",
        "\n",
        "model_elu = keras.Sequential([\n",
        "    keras.layers.Flatten(input_shape=(28, 28)),\n",
        "    keras.layers.Dense(128, activation='elu'),\n",
        "    keras.layers.Dense(128, activation='elu'),\n",
        "    keras.layers.Dense(128, activation='elu'),\n",
        "    keras.layers.Dense(10, activation='softmax')\n",
        "])\n",
        "\n",
        "model_aria = keras.Sequential([\n",
        "    keras.layers.Flatten(input_shape=(28, 28)),\n",
        "    keras.layers.Dense(128),\n",
        "    aria(),\n",
        "    keras.layers.Dense(128),\n",
        "    aria(),\n",
        "    keras.layers.Dense(128),\n",
        "    aria(),\n",
        "    keras.layers.Dense(10, activation='softmax')\n",
        "])"
      ],
      "execution_count": 0,
      "outputs": []
    },
    {
      "metadata": {
        "id": "VynUs-erMV0T",
        "colab_type": "code",
        "colab": {}
      },
      "cell_type": "code",
      "source": [
        "fashion_mnist = keras.datasets.fashion_mnist\n",
        "\n",
        "(train_images, train_labels), (test_images, test_labels) = fashion_mnist.load_data()"
      ],
      "execution_count": 0,
      "outputs": []
    },
    {
      "metadata": {
        "id": "0QbjaFiyMV0V",
        "colab_type": "code",
        "colab": {}
      },
      "cell_type": "code",
      "source": [
        "model_relu.compile(optimizer='adam', \n",
        "              loss='sparse_categorical_crossentropy',\n",
        "              metrics=['accuracy'])\n",
        "model_elu.compile(optimizer='adam', \n",
        "              loss='sparse_categorical_crossentropy',\n",
        "              metrics=['accuracy'])\n",
        "model_aria.compile(optimizer='adam', \n",
        "              loss='sparse_categorical_crossentropy',\n",
        "              metrics=['accuracy'])"
      ],
      "execution_count": 0,
      "outputs": []
    },
    {
      "metadata": {
        "id": "8PTvBjUMMV0X",
        "colab_type": "code",
        "colab": {},
        "outputId": "fc141570-a8db-49e3-ae83-0481c8ebc43b"
      },
      "cell_type": "code",
      "source": [
        "model_relu.fit(train_images, train_labels, epochs=10)"
      ],
      "execution_count": 0,
      "outputs": [
        {
          "output_type": "stream",
          "text": [
            "Epoch 1/10\n",
            "60000/60000 [==============================] - 2s 30us/sample - loss: 1.3994 - accuracy: 0.7481\n",
            "Epoch 2/10\n",
            "60000/60000 [==============================] - 2s 29us/sample - loss: 0.5393 - accuracy: 0.8132\n",
            "Epoch 3/10\n",
            "60000/60000 [==============================] - 2s 32us/sample - loss: 0.4630 - accuracy: 0.8349\n",
            "Epoch 4/10\n",
            "60000/60000 [==============================] - 2s 28us/sample - loss: 0.4219 - accuracy: 0.8495\n",
            "Epoch 5/10\n",
            "60000/60000 [==============================] - 2s 27us/sample - loss: 0.3998 - accuracy: 0.8556\n",
            "Epoch 6/10\n",
            "60000/60000 [==============================] - 2s 29us/sample - loss: 0.3862 - accuracy: 0.8617\n",
            "Epoch 7/10\n",
            "60000/60000 [==============================] - 2s 32us/sample - loss: 0.3763 - accuracy: 0.8640\n",
            "Epoch 8/10\n",
            "60000/60000 [==============================] - 2s 28us/sample - loss: 0.3613 - accuracy: 0.8690\n",
            "Epoch 9/10\n",
            "60000/60000 [==============================] - 2s 28us/sample - loss: 0.3559 - accuracy: 0.8709\n",
            "Epoch 10/10\n",
            "60000/60000 [==============================] - 2s 30us/sample - loss: 0.3500 - accuracy: 0.8737\n"
          ],
          "name": "stdout"
        },
        {
          "output_type": "execute_result",
          "data": {
            "text/plain": [
              "<tensorflow.python.keras.callbacks.History at 0x2730e660a90>"
            ]
          },
          "metadata": {
            "tags": []
          },
          "execution_count": 6
        }
      ]
    },
    {
      "metadata": {
        "id": "fsGf-BJcMV0a",
        "colab_type": "code",
        "colab": {},
        "outputId": "c680fac5-0b3a-437c-e02d-4796982acf9d"
      },
      "cell_type": "code",
      "source": [
        "model_elu.fit(train_images, train_labels, epochs=10)"
      ],
      "execution_count": 0,
      "outputs": [
        {
          "output_type": "stream",
          "text": [
            "Epoch 1/10\n",
            "60000/60000 [==============================] - 2s 32us/sample - loss: 1.4293 - accuracy: 0.7488\n",
            "Epoch 2/10\n",
            "60000/60000 [==============================] - 2s 33us/sample - loss: 0.5353 - accuracy: 0.8120\n",
            "Epoch 3/10\n",
            "60000/60000 [==============================] - 2s 32us/sample - loss: 0.4576 - accuracy: 0.8381\n",
            "Epoch 4/10\n",
            "60000/60000 [==============================] - 2s 31us/sample - loss: 0.4273 - accuracy: 0.8460\n",
            "Epoch 5/10\n",
            "60000/60000 [==============================] - 2s 30us/sample - loss: 0.3995 - accuracy: 0.8540\n",
            "Epoch 6/10\n",
            "60000/60000 [==============================] - 2s 28us/sample - loss: 0.3853 - accuracy: 0.8580\n",
            "Epoch 7/10\n",
            "60000/60000 [==============================] - 2s 29us/sample - loss: 0.3716 - accuracy: 0.8640\n",
            "Epoch 8/10\n",
            "60000/60000 [==============================] - 2s 29us/sample - loss: 0.3639 - accuracy: 0.8670\n",
            "Epoch 9/10\n",
            "60000/60000 [==============================] - 2s 28us/sample - loss: 0.3540 - accuracy: 0.8693\n",
            "Epoch 10/10\n",
            "60000/60000 [==============================] - 2s 32us/sample - loss: 0.3475 - accuracy: 0.8727\n"
          ],
          "name": "stdout"
        },
        {
          "output_type": "execute_result",
          "data": {
            "text/plain": [
              "<tensorflow.python.keras.callbacks.History at 0x2730e7f6978>"
            ]
          },
          "metadata": {
            "tags": []
          },
          "execution_count": 7
        }
      ]
    },
    {
      "metadata": {
        "id": "GWhjvduKMV0d",
        "colab_type": "code",
        "colab": {},
        "outputId": "d1d02b9a-00e1-4607-df97-7774d8b67f82"
      },
      "cell_type": "code",
      "source": [
        "model_aria.fit(train_images, train_labels, epochs=10)"
      ],
      "execution_count": 0,
      "outputs": [
        {
          "output_type": "stream",
          "text": [
            "Epoch 1/10\n",
            "60000/60000 [==============================] - 2s 38us/sample - loss: 1.3821 - accuracy: 0.7555\n",
            "Epoch 2/10\n",
            "60000/60000 [==============================] - 2s 39us/sample - loss: 0.5299 - accuracy: 0.8165\n",
            "Epoch 3/10\n",
            "60000/60000 [==============================] - 2s 39us/sample - loss: 0.4616 - accuracy: 0.8341\n",
            "Epoch 4/10\n",
            "60000/60000 [==============================] - 2s 35us/sample - loss: 0.4242 - accuracy: 0.8473\n",
            "Epoch 5/10\n",
            "60000/60000 [==============================] - 2s 35us/sample - loss: 0.3965 - accuracy: 0.8567\n",
            "Epoch 6/10\n",
            "60000/60000 [==============================] - 2s 35us/sample - loss: 0.3819 - accuracy: 0.8608\n",
            "Epoch 7/10\n",
            "60000/60000 [==============================] - 2s 36us/sample - loss: 0.3685 - accuracy: 0.8652\n",
            "Epoch 8/10\n",
            "60000/60000 [==============================] - 2s 37us/sample - loss: 0.3600 - accuracy: 0.8687\n",
            "Epoch 9/10\n",
            "60000/60000 [==============================] - 2s 34us/sample - loss: 0.3455 - accuracy: 0.8737\n",
            "Epoch 10/10\n",
            "60000/60000 [==============================] - 2s 34us/sample - loss: 0.3399 - accuracy: 0.8771\n"
          ],
          "name": "stdout"
        },
        {
          "output_type": "execute_result",
          "data": {
            "text/plain": [
              "<tensorflow.python.keras.callbacks.History at 0x2730ec80550>"
            ]
          },
          "metadata": {
            "tags": []
          },
          "execution_count": 8
        }
      ]
    },
    {
      "metadata": {
        "id": "N987QtJXMV0g",
        "colab_type": "code",
        "colab": {},
        "outputId": "1c64f8ff-60e1-4036-ece0-72f69288927e"
      },
      "cell_type": "code",
      "source": [
        "_, test_acc_relu = model_relu.evaluate(test_images, test_labels)\n",
        "\n",
        "print('\\nTest accuracy:', test_acc_relu)"
      ],
      "execution_count": 0,
      "outputs": [
        {
          "output_type": "stream",
          "text": [
            "10000/10000 [==============================] - 0s 19us/sample - loss: 0.4320 - accuracy: 0.8504\n",
            "\n",
            "Test accuracy: 0.8504\n"
          ],
          "name": "stdout"
        }
      ]
    },
    {
      "metadata": {
        "id": "SD6DIBaUMV0k",
        "colab_type": "code",
        "colab": {},
        "outputId": "5e6e1717-8b4f-44de-89c0-fdd680efabae"
      },
      "cell_type": "code",
      "source": [
        "_, test_acc_elu = model_elu.evaluate(test_images, test_labels)\n",
        "\n",
        "print('\\nTest accuracy:', test_acc_elu)"
      ],
      "execution_count": 0,
      "outputs": [
        {
          "output_type": "stream",
          "text": [
            "10000/10000 [==============================] - 0s 20us/sample - loss: 0.4445 - accuracy: 0.8520\n",
            "\n",
            "Test accuracy: 0.852\n"
          ],
          "name": "stdout"
        }
      ]
    },
    {
      "metadata": {
        "id": "kaZ3Q8GgMV0n",
        "colab_type": "code",
        "colab": {},
        "outputId": "f22bd983-dce2-42c7-9b09-9c48520f6920"
      },
      "cell_type": "code",
      "source": [
        "_, test_acc_aria = model_aria.evaluate(test_images, test_labels)\n",
        "\n",
        "print('\\nTest accuracy:', test_acc_aria)"
      ],
      "execution_count": 0,
      "outputs": [
        {
          "output_type": "stream",
          "text": [
            "10000/10000 [==============================] - 0s 24us/sample - loss: 0.4030 - accuracy: 0.8601\n",
            "\n",
            "Test accuracy: 0.8601\n"
          ],
          "name": "stdout"
        }
      ]
    }
  ]
}